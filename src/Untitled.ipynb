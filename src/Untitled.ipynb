{
 "cells": [
  {
   "cell_type": "code",
   "execution_count": 99,
   "metadata": {},
   "outputs": [
    {
     "name": "stdout",
     "output_type": "stream",
     "text": [
      "7\n",
      "14\n",
      "23\n",
      "29\n",
      "36\n",
      "46\n",
      "52\n"
     ]
    }
   ],
   "source": [
    "import cv2\n",
    "from skimage import io\n",
    "from skimage.color import rgb2gray\n",
    "from TextSegmentation.text_segmentation import segmentImage\n",
    "from Image2Text.eval import evaluate\n",
    "\n",
    "image_path = \"../data/sample/a00-000u.png\"\n",
    "image = cv2.imread(image_path)\n",
    "\n",
    "segments = segmentImage(image)\n",
    "# segments"
   ]
  },
  {
   "cell_type": "code",
   "execution_count": 100,
   "metadata": {},
   "outputs": [
    {
     "data": {
      "text/plain": [
       "array([[251, 251, 251, 251, 251, 254, 242, 237, 167,  73,  55,  65,  51,\n",
       "        143, 234, 242, 243, 255, 244, 251, 254, 251, 251, 251, 251, 251],\n",
       "       [252, 251, 251, 251, 251, 251, 244, 230, 115,  70,  56,  62,  61,\n",
       "         93, 235, 241, 244, 251, 251, 254, 255, 251, 251, 251, 251, 251],\n",
       "       [251, 251, 251, 251, 250, 247, 243, 221, 103,  66,  53,  56,  60,\n",
       "         74, 193, 238, 246, 250, 252, 249, 245, 251, 251, 251, 251, 251],\n",
       "       [251, 251, 251, 250, 250, 248, 247, 214,  91,  65,  54,  54,  63,\n",
       "         63, 141, 237, 249, 248, 255, 250, 245, 251, 251, 251, 251, 251],\n",
       "       [251, 251, 250, 250, 250, 248, 248, 208,  81,  64,  55,  52,  63,\n",
       "         63,  99, 229, 249, 243, 254, 253, 252, 251, 251, 251, 251, 251],\n",
       "       [250, 250, 250, 250, 249, 245, 244, 202,  74,  59,  53,  48,  57,\n",
       "         59,  70, 204, 247, 242, 247, 251, 252, 250, 250, 250, 250, 250],\n",
       "       [250, 250, 250, 249, 249, 246, 243, 206,  80,  59,  55,  52,  53,\n",
       "         53,  56, 162, 241, 250, 246, 250, 248, 250, 250, 250, 250, 250],\n",
       "       [250, 250, 249, 249, 249, 248, 242, 213,  90,  60,  58,  58,  49,\n",
       "         50,  51, 107, 221, 253, 244, 251, 247, 250, 250, 250, 250, 250],\n",
       "       [250, 249, 249, 249, 249, 246, 237, 215,  94,  57,  55,  58,  43,\n",
       "         47,  46,  62, 195, 244, 236, 250, 245, 250, 250, 250, 250, 250],\n",
       "       [251, 251, 250, 249, 248, 249, 238, 216,  86,  60,  61,  47,  50,\n",
       "         50,  42,  40, 151, 232, 245, 238, 252, 248, 249, 250, 251, 251],\n",
       "       [251, 251, 250, 249, 248, 240, 228, 194,  65,  55,  60,  64,  56,\n",
       "         41,  30,  40, 101, 228, 243, 248, 246, 248, 248, 249, 250, 250],\n",
       "       [251, 250, 249, 248, 248, 250, 246, 199,  68,  61,  51,  71,  46,\n",
       "         42,  34,  39,  55, 178, 234, 249, 245, 248, 248, 249, 250, 250],\n",
       "       [251, 250, 249, 248, 247, 226, 235, 187,  69,  72,  70, 134, 127,\n",
       "         38,  38,  33,  50, 104, 222, 240, 241, 248, 248, 249, 250, 250],\n",
       "       [250, 250, 249, 248, 247, 245, 247, 181,  64,  57,  63, 160, 188,\n",
       "         55,  35,  30,  53,  55, 197, 238, 236, 247, 248, 249, 250, 251],\n",
       "       [250, 249, 248, 247, 247, 239, 222, 149,  60,  51,  57, 139, 180,\n",
       "        109,  48,  35,  35,  35, 141, 230, 240, 245, 246, 248, 249, 251],\n",
       "       [250, 249, 248, 247, 246, 254, 203, 117,  57,  46,  35,  53,  77,\n",
       "        109,  52,  37,  27,  34,  74, 189, 237, 241, 242, 244, 247, 249],\n",
       "       [250, 249, 248, 247, 246, 234, 156,  61,  33,  42,  40,  25,  39,\n",
       "         44,  30,  30,  43,  42,  33, 137, 222, 238, 240, 242, 245, 247],\n",
       "       [249, 250, 249, 247, 244, 245, 118,  49,  41,  25,  33,  47,  27,\n",
       "         39,  33,  32,  35,  33,  37,  65,  97, 129, 137, 230, 241, 244],\n",
       "       [249, 250, 249, 247, 244, 221, 140,  55,  36,  39,  23,  24,  37,\n",
       "         38,  34,  35,  36,  31,  26,  35,  48,  48,  38, 164, 235, 245],\n",
       "       [249, 250, 249, 247, 244, 238, 163,  59,  40,  51,  33,  33,  36,\n",
       "         32,  32,  33,  34,  33,  31,  28,  26,  23,  44, 165, 240, 252],\n",
       "       [249, 250, 249, 247, 244, 245, 141,  52,  54,  42,  26,  44,  25,\n",
       "         30,  32,  31,  28,  32,  40,  41,  35,  53, 139, 226, 242, 254],\n",
       "       [249, 250, 249, 247, 244, 231, 115,  65, 109,  85,  25,  28,  36,\n",
       "         33,  38,  35,  28,  29,  38,  41,  37,  52, 152, 240, 240, 244],\n",
       "       [249, 250, 249, 247, 244, 231, 113,  87, 171, 180,  80,  16,  34,\n",
       "         33,  39,  40,  35,  34,  38,  39,  36,  39,  88, 212, 252, 240],\n",
       "       [249, 250, 249, 247, 244, 220, 102, 108, 196, 228, 167,  66,  28,\n",
       "         33,  35,  37,  39,  40,  41,  39,  36,  35,  54, 196, 254, 244],\n",
       "       [249, 250, 249, 247, 244, 200,  94, 146, 215, 229, 240, 162,  62,\n",
       "         38,  33,  31,  34,  37,  35,  32,  30,  24,  59, 194, 236, 248],\n",
       "       [250, 250, 249, 246, 243, 159, 110, 204, 236, 240, 235, 237, 199,\n",
       "         96,  70,  40,  27,  33,  39,  36,  28,  23, 119, 217, 253, 250],\n",
       "       [250, 250, 249, 247, 244, 168, 128, 210, 234, 240, 237, 245, 223,\n",
       "        226, 183, 125,  79,  57,  48,  42,  35, 119, 193, 250, 251, 242],\n",
       "       [249, 250, 250, 248, 246, 209, 182, 237, 243, 246, 238, 246, 241,\n",
       "        239, 232, 223, 215, 202, 178, 147, 123, 205, 239, 255, 246, 240],\n",
       "       [249, 250, 251, 250, 248, 249, 232, 255, 250, 253, 241, 242, 247,\n",
       "        254, 247, 240, 238, 241, 244, 244, 242, 240, 237, 240, 249, 251],\n",
       "       [249, 250, 251, 251, 250, 252, 245, 251, 244, 254, 247, 244, 251,\n",
       "        245, 246, 247, 249, 250, 248, 243, 239, 252, 242, 242, 255, 255]],\n",
       "      dtype=uint8)"
      ]
     },
     "execution_count": 100,
     "metadata": {},
     "output_type": "execute_result"
    }
   ],
   "source": [
    "# segments, outputs = evaluate(segments)\n",
    "segments[0]\n",
    "# segments"
   ]
  },
  {
   "cell_type": "code",
   "execution_count": 103,
   "metadata": {},
   "outputs": [
    {
     "data": {
      "text/plain": [
       "<matplotlib.image.AxesImage at 0x1b3fdce2808>"
      ]
     },
     "execution_count": 103,
     "metadata": {},
     "output_type": "execute_result"
    },
    {
     "data": {
      "image/png": "[encoded data removed]",
      "text/plain": [
       "<Figure size 432x288 with 1 Axes>"
      ]
     },
     "metadata": {
      "needs_background": "light"
     },
     "output_type": "display_data"
    }
   ],
   "source": [
    "plt.imshow(segments[0])"
   ]
  },
  {
   "cell_type": "code",
   "execution_count": 104,
   "metadata": {},
   "outputs": [
    {
     "data": {
      "text/plain": [
       "array([[249, 249, 246, ..., 251, 251, 251],\n",
       "       [250, 249, 231, ..., 251, 251, 251],\n",
       "       [245, 241, 216, ..., 251, 251, 251],\n",
       "       ...,\n",
       "       [123, 202, 234, ...,  94, 194, 233],\n",
       "       [142, 218, 240, ..., 158, 230, 241],\n",
       "       [163, 233, 241, ..., 221, 237, 242]], dtype=uint8)"
      ]
     },
     "execution_count": 104,
     "metadata": {},
     "output_type": "execute_result"
    }
   ],
   "source": [
    "image1 = io.imread(\"../data/words/a01-000u-00-00.png\")\n",
    "image1"
   ]
  },
  {
   "cell_type": "code",
   "execution_count": 8,
   "metadata": {},
   "outputs": [
    {
     "data": {
      "text/plain": [
       "<matplotlib.image.AxesImage at 0x1b39be4be08>"
      ]
     },
     "execution_count": 8,
     "metadata": {},
     "output_type": "execute_result"
    },
    {
     "data": {
      "image/png": "[encoded data removed]",
      "text/plain": [
       "<Figure size 432x288 with 1 Axes>"
      ]
     },
     "metadata": {
      "needs_background": "light"
     },
     "output_type": "display_data"
    }
   ],
   "source": [
    "import matplotlib.pyplot as plt\n",
    "\n",
    "segments[0].cpu().numpy()\n",
    "plt.imshow(segments[0].cpu().numpy().squeeze(0))"
   ]
  },
  {
   "cell_type": "code",
   "execution_count": 106,
   "metadata": {},
   "outputs": [
    {
     "data": {
      "text/plain": [
       "<matplotlib.image.AxesImage at 0x1b3ff4bed88>"
      ]
     },
     "execution_count": 106,
     "metadata": {},
     "output_type": "execute_result"
    },
    {
     "data": {
      "image/png": "[encoded data removed]",
      "text/plain": [
       "<Figure size 432x288 with 2 Axes>"
      ]
     },
     "metadata": {
      "needs_background": "light"
     },
     "output_type": "display_data"
    }
   ],
   "source": [
    "from torchvision import transforms\n",
    "from Image2Text.preprocessing import Rescale, GreyscaleToBlackAndWhite, TransposeImage, GaussianFiltering, AverageFiltering, MedianPool2d, NumpyToTensor\n",
    "from Image2Text import config\n",
    "import numpy as np\n",
    "import torch\n",
    "\n",
    "transform = transforms.Compose([\n",
    "        TransposeImage(),\n",
    "        Rescale((config.IMAGE_H, config.IMAGE_W)),\n",
    "        transforms.Normalize(mean=(192,), std=(81,)),\n",
    "    #     AverageFiltering(channels=1, kernel_size=5),\n",
    "        NumpyToTensor(),\n",
    "        GaussianFiltering(channels=1, kernel_size=5, sigma=1),\n",
    "        GreyscaleToBlackAndWhite(),\n",
    "    #     MedianPool2d(kernel_size=5, same=True),\n",
    "])\n",
    "\n",
    "one = transform(torch.tensor(segments[0], dtype=torch.float).unsqueeze(0))\n",
    "two = transform(torch.tensor(io.imread(\"../data/words/a01-000u-00-00.png\"), dtype=torch.float).unsqueeze(0))\n",
    "fig, ax = plt.subplots(1, 2)\n",
    "ax[0].imshow(one.numpy()[0])\n",
    "ax[1].imshow(two.numpy()[0])"
   ]
  },
  {
   "cell_type": "code",
   "execution_count": 91,
   "metadata": {},
   "outputs": [
    {
     "data": {
      "text/plain": [
       "array([[251, 251, 251, 251, 251, 254, 242, 237, 167,  73,  55,  65,  51,\n",
       "        143, 234, 242, 243, 255, 244, 251, 254, 251, 251, 251, 251, 251],\n",
       "       [252, 251, 251, 251, 251, 251, 244, 230, 115,  70,  56,  62,  61,\n",
       "         93, 235, 241, 244, 251, 251, 254, 255, 251, 251, 251, 251, 251],\n",
       "       [251, 251, 251, 251, 250, 247, 243, 221, 103,  66,  53,  56,  60,\n",
       "         74, 193, 238, 246, 250, 252, 249, 245, 251, 251, 251, 251, 251],\n",
       "       [251, 251, 251, 250, 250, 248, 247, 214,  91,  65,  54,  54,  63,\n",
       "         63, 141, 237, 249, 248, 255, 250, 245, 251, 251, 251, 251, 251],\n",
       "       [251, 251, 250, 250, 250, 248, 248, 208,  81,  64,  55,  52,  63,\n",
       "         63,  99, 229, 249, 243, 254, 253, 252, 251, 251, 251, 251, 251],\n",
       "       [250, 250, 250, 250, 249, 245, 244, 202,  74,  59,  53,  48,  57,\n",
       "         59,  70, 204, 247, 242, 247, 251, 252, 250, 250, 250, 250, 250],\n",
       "       [250, 250, 250, 249, 249, 246, 243, 206,  80,  59,  55,  52,  53,\n",
       "         53,  56, 162, 241, 250, 246, 250, 248, 250, 250, 250, 250, 250],\n",
       "       [250, 250, 249, 249, 249, 248, 242, 213,  90,  60,  58,  58,  49,\n",
       "         50,  51, 107, 221, 253, 244, 251, 247, 250, 250, 250, 250, 250],\n",
       "       [250, 249, 249, 249, 249, 246, 237, 215,  94,  57,  55,  58,  43,\n",
       "         47,  46,  62, 195, 244, 236, 250, 245, 250, 250, 250, 250, 250],\n",
       "       [251, 251, 250, 249, 248, 249, 238, 216,  86,  60,  61,  47,  50,\n",
       "         50,  42,  40, 151, 232, 245, 238, 252, 248, 249, 250, 251, 251],\n",
       "       [251, 251, 250, 249, 248, 240, 228, 194,  65,  55,  60,  64,  56,\n",
       "         41,  30,  40, 101, 228, 243, 248, 246, 248, 248, 249, 250, 250],\n",
       "       [251, 250, 249, 248, 248, 250, 246, 199,  68,  61,  51,  71,  46,\n",
       "         42,  34,  39,  55, 178, 234, 249, 245, 248, 248, 249, 250, 250],\n",
       "       [251, 250, 249, 248, 247, 226, 235, 187,  69,  72,  70, 134, 127,\n",
       "         38,  38,  33,  50, 104, 222, 240, 241, 248, 248, 249, 250, 250],\n",
       "       [250, 250, 249, 248, 247, 245, 247, 181,  64,  57,  63, 160, 188,\n",
       "         55,  35,  30,  53,  55, 197, 238, 236, 247, 248, 249, 250, 251],\n",
       "       [250, 249, 248, 247, 247, 239, 222, 149,  60,  51,  57, 139, 180,\n",
       "        109,  48,  35,  35,  35, 141, 230, 240, 245, 246, 248, 249, 251],\n",
       "       [250, 249, 248, 247, 246, 254, 203, 117,  57,  46,  35,  53,  77,\n",
       "        109,  52,  37,  27,  34,  74, 189, 237, 241, 242, 244, 247, 249],\n",
       "       [250, 249, 248, 247, 246, 234, 156,  61,  33,  42,  40,  25,  39,\n",
       "         44,  30,  30,  43,  42,  33, 137, 222, 238, 240, 242, 245, 247],\n",
       "       [249, 250, 249, 247, 244, 245, 118,  49,  41,  25,  33,  47,  27,\n",
       "         39,  33,  32,  35,  33,  37,  65,  97, 129, 137, 230, 241, 244],\n",
       "       [249, 250, 249, 247, 244, 221, 140,  55,  36,  39,  23,  24,  37,\n",
       "         38,  34,  35,  36,  31,  26,  35,  48,  48,  38, 164, 235, 245],\n",
       "       [249, 250, 249, 247, 244, 238, 163,  59,  40,  51,  33,  33,  36,\n",
       "         32,  32,  33,  34,  33,  31,  28,  26,  23,  44, 165, 240, 252],\n",
       "       [249, 250, 249, 247, 244, 245, 141,  52,  54,  42,  26,  44,  25,\n",
       "         30,  32,  31,  28,  32,  40,  41,  35,  53, 139, 226, 242, 254],\n",
       "       [249, 250, 249, 247, 244, 231, 115,  65, 109,  85,  25,  28,  36,\n",
       "         33,  38,  35,  28,  29,  38,  41,  37,  52, 152, 240, 240, 244],\n",
       "       [249, 250, 249, 247, 244, 231, 113,  87, 171, 180,  80,  16,  34,\n",
       "         33,  39,  40,  35,  34,  38,  39,  36,  39,  88, 212, 252, 240],\n",
       "       [249, 250, 249, 247, 244, 220, 102, 108, 196, 228, 167,  66,  28,\n",
       "         33,  35,  37,  39,  40,  41,  39,  36,  35,  54, 196, 254, 244],\n",
       "       [249, 250, 249, 247, 244, 200,  94, 146, 215, 229, 240, 162,  62,\n",
       "         38,  33,  31,  34,  37,  35,  32,  30,  24,  59, 194, 236, 248],\n",
       "       [250, 250, 249, 246, 243, 159, 110, 204, 236, 240, 235, 237, 199,\n",
       "         96,  70,  40,  27,  33,  39,  36,  28,  23, 119, 217, 253, 250],\n",
       "       [250, 250, 249, 247, 244, 168, 128, 210, 234, 240, 237, 245, 223,\n",
       "        226, 183, 125,  79,  57,  48,  42,  35, 119, 193, 250, 251, 242],\n",
       "       [249, 250, 250, 248, 246, 209, 182, 237, 243, 246, 238, 246, 241,\n",
       "        239, 232, 223, 215, 202, 178, 147, 123, 205, 239, 255, 246, 240],\n",
       "       [249, 250, 251, 250, 248, 249, 232, 255, 250, 253, 241, 242, 247,\n",
       "        254, 247, 240, 238, 241, 244, 244, 242, 240, 237, 240, 249, 251],\n",
       "       [249, 250, 251, 251, 250, 252, 245, 251, 244, 254, 247, 244, 251,\n",
       "        245, 246, 247, 249, 250, 248, 243, 239, 252, 242, 242, 255, 255]],\n",
       "      dtype=uint8)"
      ]
     },
     "execution_count": 91,
     "metadata": {},
     "output_type": "execute_result"
    }
   ],
   "source": [
    "segments[0]"
   ]
  },
  {
   "cell_type": "code",
   "execution_count": 92,
   "metadata": {},
   "outputs": [
    {
     "data": {
      "text/plain": [
       "array([[0., 0., 0., ..., 0., 0., 0.],\n",
       "       [0., 0., 0., ..., 0., 0., 0.],\n",
       "       [0., 0., 0., ..., 0., 0., 0.],\n",
       "       ...,\n",
       "       [0., 0., 0., ..., 0., 0., 0.],\n",
       "       [0., 0., 0., ..., 0., 0., 0.],\n",
       "       [0., 0., 0., ..., 0., 0., 0.]], dtype=float32)"
      ]
     },
     "execution_count": 92,
     "metadata": {},
     "output_type": "execute_result"
    }
   ],
   "source": [
    "one.numpy()[0]"
   ]
  },
  {
   "cell_type": "code",
   "execution_count": 127,
   "metadata": {},
   "outputs": [
    {
     "name": "stdout",
     "output_type": "stream",
     "text": [
      "7\n",
      "14\n",
      "23\n",
      "29\n",
      "36\n",
      "46\n",
      "52\n",
      "53\n"
     ]
    },
    {
     "data": {
      "text/plain": [
       "['As~~~~~~~~~~~~~~~~~~~~~~~~~~~~~~',\n",
       " 'NO~~~~~~~~~~~~~~~~~v~~~~~~~E~~~~',\n",
       " 'to~~~~~~~~~~~~~~~~~~~~~~~~~~~~~~',\n",
       " 'st~~~~~~~~~~~~o~~~~~~p~~~~~~~~~~',\n",
       " 'Mr~~~~~~~~~~~~~~~~~~~~~.~~~~~~~~',\n",
       " 'Ga~~~~~~i~~t~~~~~k~~~e~~l~~~l~~~',\n",
       " 'fr~~~~~~~~~~~o~~~~mm~~~~~~~~~~~~',\n",
       " 'no~~~~m~~~ii~~~n~~~~a~~~~t~~ii~~',\n",
       " 'mm~~~~~~~~~~~~~~g~~~~~~~~~~~~~~~',\n",
       " 'an~~~~~~~~~~~~~~~~y~~~~~~~~~~~~~',\n",
       " 'mo~~~~~~~~~~~~~~m~~~~~~~~ee~~~~~',\n",
       " 'La~~~~~~~~~b~~~~o~~uu~~~~~~rr~~~',\n",
       " 'li~~~~~~~~~~~~f~~~~e~~~~~~~~~~~~',\n",
       " 'Pe~~~~~~~~~~~~~e~~~r~~~s~~~~~~~~',\n",
       " 'no~~~~~~~~~~~~~~~~~~~~~~~~~~~~~~',\n",
       " 'to~~~~~~~~~~~~~~~~~~~~~~~~~~~~~~',\n",
       " 'be~~~~~~~~~~~~~~~~~~~~~~~~~~~~~~',\n",
       " 'ma~~~~~~~~~~~~~~~~~d~~~~~e~~~~~~',\n",
       " 'at~~~~~~~~~~~~~~~~~~~~~~~~~~~~~~',\n",
       " 'at~~~~~~~~~~~~~~~~~~~~~~~~~~~~~~',\n",
       " 'me~~~~~~~e~~~tt~~ii~n~~~~~g~~~~~',\n",
       " 'of~~~~~~~~~~~~~~~~~~~~~~~~~~~~~~',\n",
       " 'La~~~~~~~b~~~~~o~~u~~~~~~~~~~r~~',\n",
       " 'MN~~~~~~~~~~~~PP~~~~~~s~~~~~~~~~',\n",
       " 'to~~~~m~~~~~o~~~r~~n~~oo~ww~~~~~',\n",
       " 'Mr~~~~~~~~~~~~~~~~~~~~~~~~~~~~~~',\n",
       " 'Mi~~~~~~~cc~~h~~~~~~a~~~e~~~~l~~',\n",
       " 'Fo~~~~~~~~~~~~~~~o~~t~~~~~~~~~~~',\n",
       " 'ha~~~~~~~~~~~~~~~~~~~~ss~~~~~~~~',\n",
       " 'pu~~~~~~~~~~~~~~~~t~~~~~~~~~~~~~',\n",
       " 'do~~~~~~~~~~~~~w~~~~~~~~~n~~~~~~',\n",
       " 'as~~~~~~~~~~~~~~~~~~~~~~~~~~~~~~',\n",
       " 're~~~~s~~o~~~u~~~~~~t~iio~~n~~~~',\n",
       " 'on~~~~~~~~~~~~~~~~~~~~~~~~~~~~~~',\n",
       " 'th~~~~~~~~~~~~~~~~~~e~~~~~~~~~~~',\n",
       " 'su~~~~~~~b~~~ijj~e~~~a~~t~~s~~~~',\n",
       " 'an~~~~~~~~~~~~~~~~~~~~~~~~~~~~~~',\n",
       " 'hee~~~~~~~~~~~~~~~~~~~~~~~~~~~~~',\n",
       " 'so~~~~~~~~~~~~~~~~~~~~~~~~~~~~~~',\n",
       " 'so~~~~~~~~~~~~~~~~~~~~~~~~~~~~~~',\n",
       " 'be~~~~~~~~~~~~~~~~~~~~~~~~~~~~~~',\n",
       " 'ba~~~~~~~~~~c~~h~~~~~e~~~~dd~~~~',\n",
       " 'by~~~~~~~~~~~~~~~~~~~~~~~~~~~~~~',\n",
       " 'uu~~~~~~~~~~~~~~~~~~~~~~~~~~~~~~',\n",
       " 'ws~~~~~~~~~~~~~~~~~~~~~~~~~~~~~~',\n",
       " 'i~~~~~~~~~~~~l~~l~~~~~~~~~~~~~~~',\n",
       " 'Gi~~~ii~~s~~f~~ii~~t~~t~~~~~s~~~',\n",
       " 'it~~~~~~~~~~~~~~~~~~~~~~~~~~~~~~',\n",
       " 'if~~~~~~~~~~~~~~~~~~~~~~~~~~~~~~',\n",
       " 'fo~~~~~~~~~~~~~~~~~~~r~~~~~~~~~~',\n",
       " 'Ma~~~~~~n~~~~c~h~~~e~~~s~~~e~~~~',\n",
       " 'Ss~~~~~~~~~~~~~~~~~~~~~~~~~~~~~~',\n",
       " 'se~~~~~h~~~~~~a~~nn~~~~g~~~~e~~~']"
      ]
     },
     "execution_count": 127,
     "metadata": {},
     "output_type": "execute_result"
    },
    {
     "data": {
      "image/png": "[encoded data removed]",
      "text/plain": [
       "<Figure size 432x288 with 1 Axes>"
      ]
     },
     "metadata": {
      "needs_background": "light"
     },
     "output_type": "display_data"
    }
   ],
   "source": [
    "from Image2Text.model import Image2TextNet\n",
    "from Image2Text.engine import one_sample\n",
    "\n",
    "v = 36\n",
    "\n",
    "image_path = \"../data/sample/a00-000u.png\"\n",
    "image = cv2.imread(image_path)\n",
    "segments = segmentImage(image)\n",
    "\n",
    "device = torch.device(\"cuda:0\" if torch.cuda.is_available() else \"cpu\")\n",
    "print(len(segments))\n",
    "\n",
    "model = Image2TextNet()\n",
    "model.load_state_dict(torch.load(\"Image2Text/weights/model_checkpoint_%s.pth\" % v))\n",
    "model.to(device)\n",
    "model.eval()\n",
    "\n",
    "transform = transforms.Compose([\n",
    "    TransposeImage(),\n",
    "    Rescale((config.IMAGE_H, config.IMAGE_W)),\n",
    "    transforms.Normalize(mean=(192,), std=(81,)),\n",
    "#     AverageFiltering(channels=1, kernel_size=5),\n",
    "    NumpyToTensor(),\n",
    "    GaussianFiltering(channels=1, kernel_size=5, sigma=1),\n",
    "    GreyscaleToBlackAndWhite(),\n",
    "#     MedianPool2d(kernel_size=5, same=True),\n",
    "])\n",
    "\n",
    "# segments = [transform(torch.tensor(segment, dtype=torch.float).unsqueeze(0)) for segment in segments]\n",
    "# plt.imshow(one[0][0])\n",
    "segments = [transform(torch.tensor(segment, dtype=torch.float).unsqueeze(0)) for segment in segments]\n",
    "plt.imshow(segments[0].cpu()[0])\n",
    "output = [one_sample(segment, model, device) for segment in segments]\n",
    "output"
   ]
  }
 ],
 "metadata": {
  "kernelspec": {
   "display_name": "Python 3",
   "language": "python",
   "name": "python3"
  },
  "language_info": {
   "codemirror_mode": {
    "name": "ipython",
    "version": 3
   },
   "file_extension": ".py",
   "mimetype": "text/x-python",
   "name": "python",
   "nbconvert_exporter": "python",
   "pygments_lexer": "ipython3",
   "version": "3.7.9"
  }
 },
 "nbformat": 4,
 "nbformat_minor": 4
}
